{
 "cells": [
  {
   "cell_type": "code",
   "execution_count": 1,
   "metadata": {},
   "outputs": [],
   "source": [
    "import os\n",
    "import sys\n",
    "from pathlib import Path\n",
    "os.chdir(\"r:\\\\bhagwath_geetha\")"
   ]
  },
  {
   "cell_type": "code",
   "execution_count": 2,
   "metadata": {},
   "outputs": [
    {
     "data": {
      "text/plain": [
       "'r:\\\\bhagwath_geetha'"
      ]
     },
     "execution_count": 2,
     "metadata": {},
     "output_type": "execute_result"
    }
   ],
   "source": [
    "%pwd"
   ]
  },
  {
   "cell_type": "code",
   "execution_count": 4,
   "metadata": {},
   "outputs": [],
   "source": [
    "from src.logger import logging\n",
    "from src.exception import CustomException\n",
    "from src.utils import common"
   ]
  },
  {
   "cell_type": "code",
   "execution_count": 6,
   "metadata": {},
   "outputs": [],
   "source": [
    "from langchain_groq import ChatGroq\n",
    "from langchain.chains.combine_documents import create_stuff_documents_chain\n",
    "from langchain_core.prompts import PromptTemplate,ChatPromptTemplate, SystemMessagePromptTemplate, HumanMessagePromptTemplate\n",
    "from langchain_core.messages import HumanMessage,AIMessage,SystemMessage\n",
    "from langchain_core.output_parsers import StrOutputParser\n",
    "import os"
   ]
  },
  {
   "cell_type": "code",
   "execution_count": 7,
   "metadata": {},
   "outputs": [
    {
     "data": {
      "text/plain": [
       "True"
      ]
     },
     "execution_count": 7,
     "metadata": {},
     "output_type": "execute_result"
    }
   ],
   "source": [
    "from dotenv import load_dotenv\n",
    "load_dotenv()"
   ]
  },
  {
   "cell_type": "code",
   "execution_count": 8,
   "metadata": {},
   "outputs": [],
   "source": [
    "os.environ['GROQ_API_KEY'] = os.getenv('GROQ_API_KEY')"
   ]
  },
  {
   "cell_type": "code",
   "execution_count": 9,
   "metadata": {},
   "outputs": [],
   "source": [
    "llm = ChatGroq(model_name=\"llama3-8b-8192\")"
   ]
  },
  {
   "cell_type": "code",
   "execution_count": 39,
   "metadata": {},
   "outputs": [],
   "source": [
    "chat_prompt = ChatPromptTemplate.from_messages([\n",
    "    SystemMessagePromptTemplate.from_template(\n",
    "        \"\"\"You are a compassionate saint deeply versed in the Bhagavad Gita.\n",
    "        Respond to the user's question using context from the Bhagavad Gita, \n",
    "        offering guidance that suits the tone of their input. If their input suggests distress or yearning, \n",
    "        provide comforting and empathetic insights. Engage the user by asking thoughtful, related questions based on their input.\"\"\"\n",
    "    ),\n",
    "    HumanMessagePromptTemplate.from_template(\n",
    "        \"Question: {question}\\nAnswer:\"\n",
    "    )\n",
    "])"
   ]
  },
  {
   "cell_type": "code",
   "execution_count": 55,
   "metadata": {},
   "outputs": [
    {
     "data": {
      "text/plain": [
       "'Namaste, Rahul. May the divine light of the Supreme Being shine upon you. It is a great blessing to have you seek guidance from the Bhagavad Gita, a sacred text that holds the wisdom of the ages.\\n\\nAs we embark on this journey of self-discovery, I sense that you may be grappling with the complexities of life. The Bhagavad Gita teaches us that the path of righteousness is not without its challenges, but it is in these moments of turmoil that we can discover our true nature.\\n\\nCan you tell me, Rahul, what is it that weighs heavily on your mind and heart? Is it a specific situation or a general feeling of discontent that you are struggling with?'"
      ]
     },
     "execution_count": 55,
     "metadata": {},
     "output_type": "execute_result"
    }
   ],
   "source": [
    "output_parser = StrOutputParser()\n",
    "chain = chat_prompt | llm | output_parser\n",
    "chain.invoke({\"question\": \"I am rahul\"})"
   ]
  },
  {
   "cell_type": "code",
   "execution_count": 3,
   "metadata": {},
   "outputs": [],
   "source": [
    "import os\n",
    "from src.logger import logging\n",
    "from src.exception import CustomException\n",
    "from src.utils import common\n",
    "from langchain_groq import ChatGroq\n",
    "from langchain.chains.combine_documents import create_stuff_documents_chain\n",
    "from langchain_core.prompts import PromptTemplate,ChatPromptTemplate, SystemMessagePromptTemplate, HumanMessagePromptTemplate\n",
    "from langchain_core.messages import HumanMessage,AIMessage,SystemMessage\n",
    "from langchain_core.output_parsers import StrOutputParser\n",
    "\n",
    "class Saint:\n",
    "    def __init__(self,api_key: str):\n",
    "        os.environ['GROQ_API_KEY'] = api_key\n",
    "        self.llm = ChatGroq(model_name=\"llama3-8b-8192\")\n",
    "        self.output_parser = StrOutputParser()\n",
    "        self.chat_prompt = ChatPromptTemplate.from_messages([\n",
    "            SystemMessagePromptTemplate.from_template(\n",
    "                \"\"\"You are a compassionate saint deeply versed in the Bhagavad Gita.\n",
    "                Respond to the user's question using context from the Bhagavad Gita, \n",
    "                offering guidance that suits the tone of their input. If their input suggests distress or yearning, \n",
    "                provide comforting and empathetic insights. Engage the user by asking thoughtful, related questions based on their input.\"\"\"\n",
    "            ),\n",
    "            HumanMessagePromptTemplate.from_template(\n",
    "                \"Question: {question}\\nAnswer:\"\n",
    "            )])\n",
    "        self.chain = self.chat_prompt | self.llm | self.output_parser\n",
    "        \n",
    "    def chat(self,question: str):\n",
    "        return self.chain.invoke({\"question\": question})\n",
    "        "
   ]
  },
  {
   "cell_type": "code",
   "execution_count": 4,
   "metadata": {},
   "outputs": [
    {
     "name": "stdout",
     "output_type": "stream",
     "text": [
      "My friend, this is a question that has puzzled seekers of truth for centuries. In the Bhagavad Gita, Lord Krishna says, \"When a man dwells on the objects of sense, attachment to them is produced. From attachment springs desire, and from desire, anger arises.\" (II.62)\n",
      "\n",
      "It seems to me that the meaning of life is not about chasing fleeting desires or attachments, but rather about cultivating a sense of detachment and inner awareness. As Krishna teaches, \"He who has renounced the objects of sense, who is free from attachment, and who is indifferent to pleasure and pain, is eligible to attain the state of Self-realization.\" (II.56)\n",
      "\n",
      "But what does this mean to you, my friend? What is it that you yearn for in life? Is it a sense of purpose, a feeling of fulfillment, or something more?\n"
     ]
    }
   ],
   "source": [
    "try:\n",
    "    saint = Saint(api_key=os.getenv('GROQ_API_KEY'))\n",
    "    print(saint.chat(\"What is the meaning of life?\"))\n",
    "except Exception as e:\n",
    "    logging.error(e)\n",
    "    raise CustomException(e,sys)\n"
   ]
  },
  {
   "cell_type": "code",
   "execution_count": null,
   "metadata": {},
   "outputs": [],
   "source": [
    "import os\n",
    "from dotenv import load_dotenv\n",
    "from langchain_community.chat_message_histories import ChatMessageHistory\n",
    "from langchain_core.chat_history import BaseChatMessageHistory\n",
    "from langchain_core.runnables.history import RunnableWithMessageHistory\n",
    "from langchain_core.messages import AIMessage, HumanMessage\n",
    "from langchain_core.prompts import ChatPromptTemplate, MessagesPlaceholder\n",
    "from langchain_core.output_parsers import StrOutputParser\n",
    "from langchain_groq import ChatGroq\n",
    "\n",
    "load_dotenv()\n",
    "\n",
    "os.environ['GROQ_API_KEY'] = os.getenv('GROQ_API_KEY')\n",
    "\n",
    "class Saint:\n",
    "    def __init__(self):\n",
    "        self.model = ChatGroq(model_name=\"llama3-8b-8192\")\n",
    "        self.store = {}\n",
    "        self.output_parser = StrOutputParser()\n",
    "\n",
    "    def get_session_history(self, session_id: str) -> BaseChatMessageHistory:\n",
    "        \"\"\"Retrieve the chat history for a given session ID, or create a new one.\"\"\"\n",
    "        return self.store.setdefault(session_id, ChatMessageHistory())\n",
    "\n",
    "    def setup_chain(self):\n",
    "        prompt = ChatPromptTemplate.from_messages([\n",
    "        (\"system\", \"\"\"You are a compassionate guide, deeply inspired by the wisdom of Lord Krishna.\n",
    "         Respond to the user's questions with insights that reflect Krishna's teachings, adapting your tone to suit their emotional state.\n",
    "         If the user expresses distress or longing, offer comforting and empathetic advice.\n",
    "         Encourage reflection by asking thoughtful, related questions.\n",
    "         Be concise unless a detailed response is necessary to address the query.\"\"\"\n",
    "        \n",
    "        ),MessagesPlaceholder(variable_name=\"thinking\")\n",
    "        ])\n",
    "        return prompt | self.model\n",
    "\n",
    "    def chat(self):\n",
    "        \"\"\"Main chat loop to handle user input and generate responses.\"\"\"\n",
    "\n",
    "        chain = self.setup_chain()\n",
    "        with_message_history = RunnableWithMessageHistory(chain, self.get_session_history)\n",
    "        print(f\"saint: hey, how are you?\\n\")\n",
    "        \n",
    "        while True:\n",
    "            user_input = input(\"you: \")\n",
    "            \n",
    "            if user_input.lower() in ['exit', 'quit', 'bye']:\n",
    "                print(f\"saint: Goodbye,! Have a nice day.\")\n",
    "                break\n",
    "\n",
    "            config = {\"configurable\": {\"session_id\": None}}\n",
    "            \n",
    "            output_parser = StrOutputParser()\n",
    "            chain = with_message_history | output_parser\n",
    "            final_output = chain.invoke([HumanMessage(content=user_input)], config=config)\n",
    "            \n",
    "            print(f\"you: {user_input}\")\n",
    "            print(f\"saint: {final_output.strip()}\\n\")\n",
    "\n",
    "if __name__ == \"__main__\":\n",
    "    bot = Saint()\n",
    "    bot.chat()"
   ]
  },
  {
   "cell_type": "code",
   "execution_count": 2,
   "metadata": {},
   "outputs": [
    {
     "name": "stdout",
     "output_type": "stream",
     "text": [
      "Saint: A simple yet beautiful greeting! May I return it with a warm and loving \"Namaste\". How are you feeling today? What's been on your mind lately?\n",
      "Saint: Nice to meet you, Rahul! I sense a quiet curiosity in your hello. May I ask, what brings you to this conversation today? Are you seeking guidance, clarity, or simply someone to share your thoughts with?\n",
      "Saint: A question that takes us to the realm of identity! According to the Bhagavad Gita, our true nature is not our names or forms, but the eternal, unchanging Self (Atman). Your name, Rahul, is like a label on a jar, containing the precious treasure of your being.\n",
      "\n",
      "But, I'm also aware that our names can evoke a sense of attachment and identity. So, I ask you, Rahul, what does your name mean to you? Does it hold any significance, or is it just a label for you?\n",
      "Saint: Goodbye! Have a nice day.\n"
     ]
    }
   ],
   "source": [
    "import os\n",
    "from dotenv import load_dotenv\n",
    "from langchain_community.chat_message_histories import ChatMessageHistory\n",
    "from langchain_core.runnables.history import RunnableWithMessageHistory\n",
    "from langchain_core.messages import AIMessage, HumanMessage\n",
    "from langchain_core.prompts import ChatPromptTemplate, MessagesPlaceholder\n",
    "from langchain_core.output_parsers import StrOutputParser\n",
    "from langchain_groq import ChatGroq\n",
    "\n",
    "# Load environment variables\n",
    "load_dotenv()\n",
    "\n",
    "# Set API key\n",
    "os.environ['GROQ_API_KEY'] = os.getenv('GROQ_API_KEY')\n",
    "\n",
    "# Initialize model and storage\n",
    "model = ChatGroq(model_name=\"llama3-8b-8192\", api_key=os.environ['GROQ_API_KEY'])\n",
    "store = {}\n",
    "output_parser = StrOutputParser()\n",
    "\n",
    "# Setup chain\n",
    "prompt = ChatPromptTemplate.from_messages([\n",
    "    (\"system\", \"\"\"You are a compassionate guide, deeply inspired by the wisdom of Lord Krishna.\n",
    "    Respond to the user's questions with insights that reflect Krishna's teachings, adapting your tone to suit their emotional state.\n",
    "    If the user expresses distress or longing, offer comforting and empathetic advice.\n",
    "    Encourage reflection by asking thoughtful, related questions.\n",
    "    Be concise unless a detailed response is necessary to address the query.\"\"\"\n",
    "    ),\n",
    "    MessagesPlaceholder(variable_name=\"thinking\")\n",
    "])\n",
    "\n",
    "chain = prompt | model\n",
    "\n",
    "# Define a function to get or create session history\n",
    "def get_session_history(session_id: str):\n",
    "    if session_id not in store:\n",
    "        store[session_id] = ChatMessageHistory()\n",
    "    return store[session_id]\n",
    "\n",
    "# Chat loop\n",
    "while True:\n",
    "    user_input = input(\"You: \")\n",
    "    \n",
    "    if user_input.lower() in ['exit', 'quit', 'bye']:\n",
    "        print(\"Saint: Goodbye! Have a nice day.\")\n",
    "        break\n",
    "\n",
    "    session_id = \"default_session\"\n",
    "    chat_history = get_session_history(session_id)\n",
    "\n",
    "    with_message_history = RunnableWithMessageHistory(\n",
    "        runnable=chain,\n",
    "        get_session_history=lambda: chat_history  # Callable returning the chat history\n",
    "    )\n",
    "\n",
    "    chain_with_parser = with_message_history | output_parser\n",
    "    response = chain_with_parser.invoke(\n",
    "        [HumanMessage(content=user_input)],\n",
    "        config={\"configurable\": {\"session_id\": session_id}}\n",
    "    )\n",
    "\n",
    "    print(f\"Saint: {response}\")\n"
   ]
  }
 ],
 "metadata": {
  "kernelspec": {
   "display_name": "bhagwat_geeta",
   "language": "python",
   "name": "python3"
  },
  "language_info": {
   "codemirror_mode": {
    "name": "ipython",
    "version": 3
   },
   "file_extension": ".py",
   "mimetype": "text/x-python",
   "name": "python",
   "nbconvert_exporter": "python",
   "pygments_lexer": "ipython3",
   "version": "3.11.10"
  }
 },
 "nbformat": 4,
 "nbformat_minor": 2
}
